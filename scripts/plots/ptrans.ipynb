{
 "cells": [
  {
   "cell_type": "code",
   "execution_count": null,
   "metadata": {},
   "outputs": [],
   "source": [
    "import matplotlib.pyplot as plt\n",
    "import pandas as pd\n",
    "import parse_raw_to_csv\n",
    "import os\n",
    "import numpy as np\n",
    "\n",
    "df = pd.DataFrame()\n",
    "\n",
    "N = [1,2,5,8,13]\n",
    "n = [1,4,9,16,25]\n",
    "\n",
    "for ii, i in enumerate(N):\n",
    "    df_tmp = pd.DataFrame()\n",
    "    for f in os.listdir(\"../../experiments/%d_fpga\" % i):\n",
    "        if any(f.endswith(e) for e in [\".txt\",\".out\"]) and any(f.startswith(s) for s in [\"ptrans\"]):\n",
    "            df_parsed = parse_raw_to_csv.parse_file_or_folder(os.path.join(\"../../experiments/%d_fpga\" % i, f), parse_raw_to_csv.parse_map.values())\n",
    "            if \"pcie\" in f:\n",
    "                df_parsed[\"type\"] = \"PCIE\"\n",
    "                df_parsed[\"norm_flops\"] = float(df_parsed[\"best_mem_bw\"]) / ((n[ii]))\n",
    "                df_parsed[\"norm_bw\"] = 32768 ** 2 * 4 * 3 / float(df_parsed[\"avg_calc_time\"]) / ((n[ii]))\n",
    "            else:\n",
    "                df_parsed[\"type\"] = \"IEC\"\n",
    "                df_parsed[\"norm_flops\"] = float(df_parsed[\"best_mem_bw\"]) / ((n[ii]))\n",
    "                df_parsed[\"norm_bw\"] = 32768 ** 2 * 4 * 3 / float(df_parsed[\"avg_calc_time\"]) / ((n[ii]))\n",
    "            df_tmp = df_tmp.append(df_parsed)\n",
    "    df_tmp[\"block_size\"] = 512\n",
    "    df_tmp[\"N\"] = i\n",
    "    df_tmp[\"n\"] = n[ii]\n",
    "    df_tmp[\"size\"] = (df_tmp[\"size\"].astype(int) / np.sqrt(n[ii])).astype(int)\n",
    "    df = df.append(df_tmp)\n",
    "\n",
    "for ii, i in enumerate([1,2]):\n",
    "    df_tmp = pd.DataFrame()\n",
    "    for f in os.listdir(\"../../experiments/%d_fpga/u280\" % i):\n",
    "        if any(f.endswith(e) for e in [\".txt\",\".out\"]) and any(f.startswith(s) for s in [\"ptrans\"]):\n",
    "            df_parsed = parse_raw_to_csv.parse_file_or_folder(os.path.join(\"../../experiments/%d_fpga/u280\" % i, f), parse_raw_to_csv.parse_map.values())\n",
    "            df_parsed[\"type\"] = \"PCIE\"\n",
    "            df_parsed[\"norm_flops\"] = float(df_parsed[\"best_mem_bw\"]) / ((n[ii]))\n",
    "            df_parsed[\"norm_bw\"] = 32768 ** 2 * 4 * 3 / float(df_parsed[\"avg_calc_time\"]) / ((n[ii]))\n",
    "            df_tmp = df_tmp.append(df_parsed)\n",
    "    df_tmp[\"block_size\"] = 256\n",
    "    df_tmp[\"N\"] = i\n",
    "    df_tmp[\"n\"] = n[ii]\n",
    "    df_tmp[\"size\"] = (df_tmp[\"size\"].astype(int) / np.sqrt(n[ii])).astype(int)\n",
    "    df = df.append(df_tmp)\n",
    "\n",
    "\n",
    "df[\"benchmark\"] = df.index\n",
    "\n",
    "df[\"size\"] = (df[\"size\"] / (df[\"block_size\"] * np.sqrt(df[\"n\"])).astype(int)).astype(int) * (df[\"block_size\"] * np.sqrt(df[\"n\"])).astype(int)\n",
    "df[\"flops\"] = df[\"size\"].astype(int) ** 2 / df[\"best_calc_time\"].astype(float)\n",
    "df = df.reset_index()\n",
    "df = df.apply(pd.to_numeric, errors='ignore')\n",
    "\n",
    "df"
   ]
  },
  {
   "cell_type": "code",
   "execution_count": null,
   "metadata": {},
   "outputs": [],
   "source": [
    "df_strongt = df\n",
    "df_strong = df_strongt[df_strongt[\"size\"] <= 34816]\n",
    "df_weak = df_strongt[(df_strongt[\"size\"] > 34816) | (df_strongt[\"n\"] == 1)]"
   ]
  },
  {
   "cell_type": "code",
   "execution_count": null,
   "metadata": {},
   "outputs": [],
   "source": [
    "import seaborn as sns\n",
    "\n",
    "#Just use set_theme() function of seaborn library for a nice looking appearance.\n",
    "sns.set_theme()\n",
    "\n",
    "fig, ptrans = plt.subplots(1)\n",
    "ptrans.scatter(df_weak[df_weak[\"type\"] == \"PCIE\"][\"n\"], df_weak[df_weak[\"type\"] == \"PCIE\"][\"best_mem_bw\"] * 1.0e-9 / df_weak[df_weak[\"type\"] == \"PCIE\"][\"n\"], label=\"Measurements d=168\", marker=\"x\")\n",
    "#ptrans.scatter(df_strong[\"n\"], df_strong[\"norm_flops\"] * 1.0e-9, label=\"Measurements d=64\", marker=\"x\")\n",
    "#ptrans.scatter(df_weak[\"n\"], df_weak[\"best_calc_flops\"] * 1.0e-9, label=\"weak\")\n",
    "#hpl.plot(np.linspace(0,5), [perf_last(48,n) * 1.0e-3 for n in np.linspace(0,5)], label=\"Model\")\n",
    "single_perf = df_strong[df_strong[\"N\"] == 2][\"norm_flops\"] * 1.0e-9\n",
    "#ptrans.plot(np.linspace(0,26), [single_perf * (n - 1)/2 for n in np.linspace(0,26)], label=\"Scaling Model\")\n",
    "#ptrans.annotate(\"(n - 1)/2 ⋅ %3.1f GFLOP/s\" % (single_perf), (4,30))\n",
    "ptrans.set_xlabel(\"Number FPGAs (n)\")\n",
    "ptrans.set_ylabel(\"GB/s\")\n",
    "#ptrans.set_xlim((0,26))\n",
    "#ptrans.set_ylim((0,60))\n",
    "ptrans.legend()\n",
    "fig.savefig(\"ptrans_scaling_norm.pdf\")"
   ]
  },
  {
   "cell_type": "code",
   "execution_count": null,
   "metadata": {},
   "outputs": [],
   "source": [
    "import seaborn as sns\n",
    "\n",
    "#Just use set_theme() function of seaborn library for a nice looking appearance.\n",
    "sns.set_theme()\n",
    "\n",
    "fig, ptrans = plt.subplots(nrows=1,ncols=2)\n",
    "\n",
    "n=1\n",
    "\n",
    "ptrans_scaling_strong = ptrans[0]\n",
    "\n",
    "# ptrans_scaling.scatter(df_weak[(df_weak[\"type\"] == \"PCIE\") & (~df_weak[\"device\"].str.contains(\"xilinx\"))][\"n\"], df_weak[(df_weak[\"type\"] == \"PCIE\") & (~df_weak[\"device\"].str.contains(\"xilinx\"))][\"flops\"] / (df_weak[(df_weak[\"type\"] == \"PCIE\") & (df_weak[\"n\"] == n) & (~df_weak[\"device\"].str.contains(\"xilinx\"))][\"flops\"].max() / n), marker=\"x\", color=\"C0\", label=\"520N PCIE weak\")\n",
    "# ptrans_scaling.scatter(df_weak[df_weak[\"type\"] == \"IEC\"][\"n\"], df_weak[df_weak[\"type\"] == \"IEC\"][\"flops\"] / (df_weak[(df_weak[\"type\"] == \"IEC\") & (df_weak[\"n\"] == n)][\"flops\"].max() / n), marker=\"x\", color=\"C1\", label=\"520N IEC weak\")\n",
    "# ptrans_scaling.scatter(df_weak[(df_weak[\"type\"] == \"PCIE\") & (df_weak[\"device\"].str.contains(\"xilinx\"))][\"n\"], df_weak[(df_weak[\"type\"] == \"PCIE\") & (df_weak[\"device\"].str.contains(\"xilinx\"))][\"flops\"] / (df_weak[(df_weak[\"type\"] == \"PCIE\") & (df_weak[\"n\"] == n) & (df_weak[\"device\"].str.contains(\"xilinx\"))][\"flops\"].max() / n), marker=\"x\", color=\"C2\", label=\"U280 PCIE weak\")\n",
    "ptrans_scaling_strong.scatter(df_strong[(df_strong[\"type\"] == \"PCIE\") & (~df_strong[\"device\"].str.contains(\"xilinx\"))][\"n\"], df_strong[(df_strong[\"type\"] == \"PCIE\") & (~df_strong[\"device\"].str.contains(\"xilinx\"))][\"flops\"] / (df_weak[(df_weak[\"type\"] == \"PCIE\") & (df_weak[\"n\"] == n) & (~df_weak[\"device\"].str.contains(\"xilinx\"))][\"flops\"].max() / n),marker=\"x\", color=\"C0\", label=\"Nallatech 520N\")\n",
    "ptrans_scaling_strong.scatter(df_strong[df_strong[\"type\"] == \"IEC\"][\"n\"], df_strong[df_strong[\"type\"] == \"IEC\"][\"flops\"] / (df_strong[(df_strong[\"type\"] == \"IEC\") & (df_strong[\"n\"] == n)][\"flops\"].max() / n),marker=\"x\", color=\"C1\",  label=\"Nallatech 520N IEC\")\n",
    "ptrans_scaling_strong.scatter(df_strong[(df_strong[\"type\"] == \"PCIE\") & (df_strong[\"device\"].str.contains(\"xilinx\"))][\"n\"], df_strong[(df_strong[\"type\"] == \"PCIE\") & (df_strong[\"device\"].str.contains(\"xilinx\"))][\"flops\"] / (df_weak[(df_weak[\"type\"] == \"PCIE\") & (df_weak[\"n\"] == n) & (df_weak[\"device\"].str.contains(\"xilinx\"))][\"flops\"].max() / n),marker=\"x\", color=\"C2\", label=\"Xilinx Alveo U280\")\n",
    "ptrans_scaling_strong.set_title(\"Strong Scaling\")\n",
    "ptrans_scaling_strong.set_xlabel(\"Number FPGAs (n)\")\n",
    "ptrans_scaling_strong.set_ylabel(\"Speedup\")\n",
    "ptrans_scaling_strong.plot(np.linspace(0,26), np.linspace(0,26), linestyle=\":\", color=\"black\", label=\"optimal scaling\")\n",
    "\n",
    "ptrans_scaling_weak = ptrans[1]\n",
    "\n",
    "ptrans_scaling_weak.scatter(df_weak[(df_weak[\"type\"] == \"PCIE\") & (~df_weak[\"device\"].str.contains(\"xilinx\"))][\"n\"], df_weak[(df_weak[\"type\"] == \"PCIE\") & (~df_weak[\"device\"].str.contains(\"xilinx\"))][\"flops\"] / (df_weak[(df_weak[\"type\"] == \"PCIE\") & (df_weak[\"n\"] == n) & (~df_weak[\"device\"].str.contains(\"xilinx\"))][\"flops\"].max() / n), marker=\"x\", color=\"C0\")\n",
    "ptrans_scaling_weak.scatter(df_weak[df_weak[\"type\"] == \"IEC\"][\"n\"], df_weak[df_weak[\"type\"] == \"IEC\"][\"flops\"] / (df_weak[(df_weak[\"type\"] == \"IEC\") & (df_weak[\"n\"] == n)][\"flops\"].max() / n), marker=\"x\", color=\"C1\")\n",
    "ptrans_scaling_weak.scatter(df_weak[(df_weak[\"type\"] == \"PCIE\") & (df_weak[\"device\"].str.contains(\"xilinx\"))][\"n\"], df_weak[(df_weak[\"type\"] == \"PCIE\") & (df_weak[\"device\"].str.contains(\"xilinx\"))][\"flops\"] / (df_weak[(df_weak[\"type\"] == \"PCIE\") & (df_weak[\"n\"] == n) & (df_weak[\"device\"].str.contains(\"xilinx\"))][\"flops\"].max() / n), marker=\"x\", color=\"C2\")\n",
    "ptrans_scaling_weak.set_title(\"Weak Scaling\")\n",
    "ptrans_scaling_weak.set_xlabel(\"Number FPGAs (n)\")\n",
    "ptrans_scaling_weak.set_ylabel(\"Speedup\")\n",
    "ptrans_scaling_weak.plot(np.linspace(0,26), np.linspace(0,26), linestyle=\":\", color=\"black\")\n",
    "\n",
    "#ptrans.set_xlim((0,26))\n",
    "#ptrans.set_ylim((0,60))\n",
    "lgd = fig.legend(loc=\"center left\", bbox_to_anchor=(0.97,0.5))\n",
    "fig.tight_layout()\n",
    "fig.savefig(\"ptrans_scaling_norm.pdf\", bbox_extra_artists=(lgd,), bbox_inches='tight')"
   ]
  },
  {
   "cell_type": "code",
   "execution_count": null,
   "metadata": {},
   "outputs": [],
   "source": [
    "df[\"best_calc_time\"]"
   ]
  },
  {
   "cell_type": "code",
   "execution_count": null,
   "metadata": {},
   "outputs": [],
   "source": []
  }
 ],
 "metadata": {
  "interpreter": {
   "hash": "31f2aee4e71d21fbe5cf8b01ff0e069b9275f58929596ceb00d14d90e3e16cd6"
  },
  "kernelspec": {
   "display_name": "Python 3.7.4 64-bit ('.venv': venv)",
   "language": "python",
   "name": "python3"
  },
  "language_info": {
   "codemirror_mode": {
    "name": "ipython",
    "version": 3
   },
   "file_extension": ".py",
   "mimetype": "text/x-python",
   "name": "python",
   "nbconvert_exporter": "python",
   "pygments_lexer": "ipython3",
   "version": "3.9.2"
  },
  "metadata": {
   "interpreter": {
    "hash": "4e3163113eec36992159becb80c6db544d861abde29f0b6090e3d782eb374e1f"
   }
  }
 },
 "nbformat": 4,
 "nbformat_minor": 4
}
