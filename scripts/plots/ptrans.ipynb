{
 "cells": [
  {
   "cell_type": "code",
   "execution_count": null,
   "metadata": {},
   "outputs": [],
   "source": [
    "import matplotlib.pyplot as plt\n",
    "import pandas as pd\n",
    "import parse_raw_to_csv\n",
    "import os\n",
    "import numpy as np\n",
    "\n",
    "df = pd.DataFrame()\n",
    "\n",
    "N = [1,2,5,8,13]\n",
    "n = [1,4,9,16,25]\n",
    "\n",
    "for ii, i in enumerate(N):\n",
    "    df_tmp = pd.DataFrame()\n",
    "    for f in os.listdir(\"../../experiments/%d_fpga\" % i):\n",
    "        if any(f.endswith(e) for e in [\".txt\",\".out\"]) and any(f.startswith(s) for s in [\"ptrans\"]) and \"strong\" not in f:\n",
    "            df_parsed = parse_raw_to_csv.parse_file_or_folder(os.path.join(\"../../experiments/%d_fpga\" % i, f), parse_raw_to_csv.parse_map.values())\n",
    "            if \"pcie\" in f:\n",
    "                df_parsed[\"type\"] = \"PCIE\"\n",
    "                df_parsed[\"norm_flops\"] = float(df_parsed[\"best_mem_bw\"]) / ((n[ii]))\n",
    "                df_parsed[\"norm_bw\"] = 32768 ** 2 * 4 * 3 / float(df_parsed[\"avg_calc_time\"]) / ((n[ii]))\n",
    "            else:\n",
    "                df_parsed[\"type\"] = \"IEC\"\n",
    "                df_parsed[\"norm_flops\"] = float(df_parsed[\"best_mem_bw\"]) / ((n[ii]))\n",
    "                df_parsed[\"norm_bw\"] = 32768 ** 2 * 4 * 3 / float(df_parsed[\"avg_calc_time\"]) / ((n[ii]))\n",
    "            df_tmp = df_tmp.append(df_parsed)\n",
    "    df_tmp[\"N\"] = i\n",
    "    df_tmp[\"n\"] = n[ii]\n",
    "    df = df.append(df_tmp)\n",
    "\n",
    "for ii, i in enumerate([1,2]):\n",
    "    df_tmp = pd.DataFrame()\n",
    "    for f in os.listdir(\"../../experiments/%d_fpga/u280\" % i):\n",
    "        if any(f.endswith(e) for e in [\".txt\",\".out\"]) and any(f.startswith(s) for s in [\"ptrans\"]):\n",
    "            df_parsed = parse_raw_to_csv.parse_file_or_folder(os.path.join(\"../../experiments/%d_fpga/u280\" % i, f), parse_raw_to_csv.parse_map.values())\n",
    "            df_parsed[\"type\"] = \"PCIE\"\n",
    "            df_parsed[\"norm_flops\"] = float(df_parsed[\"best_mem_bw\"]) / ((n[ii]))\n",
    "            df_parsed[\"norm_bw\"] = 32768 ** 2 * 4 * 3 / float(df_parsed[\"avg_calc_time\"]) / ((n[ii]))\n",
    "            df_tmp = df_tmp.append(df_parsed)\n",
    "    df_tmp[\"N\"] = i\n",
    "    df_tmp[\"n\"] = n[ii]\n",
    "    df = df.append(df_tmp)\n",
    "\n",
    "\n",
    "df[\"benchmark\"] = df.index\n",
    "df = df.apply(pd.to_numeric, errors='ignore')\n",
    "df = df.reset_index()\n",
    "\n",
    "\n",
    "df"
   ]
  },
  {
   "cell_type": "code",
   "execution_count": null,
   "metadata": {},
   "outputs": [],
   "source": [
    "df_strongt = df\n",
    "df_strong = df_strongt[df_strongt[\"size\"] == 32768]\n",
    "df_weak = df_strongt[(df_strongt[\"size\"] > 32768) | (df_strongt[\"n\"] == 1)]\n",
    "df_weak"
   ]
  },
  {
   "cell_type": "code",
   "execution_count": null,
   "metadata": {},
   "outputs": [],
   "source": [
    "#import seaborn as sns\n",
    "\n",
    "#Just use set_theme() function of seaborn library for a nice looking appearance.\n",
    "#sns.set_theme()\n",
    "\n",
    "fig, ptrans = plt.subplots(1)\n",
    "ptrans.scatter(df_weak[df_weak[\"type\"] == \"PCIE\"][\"n\"], df_weak[df_weak[\"type\"] == \"PCIE\"][\"best_mem_bw\"] * 1.0e-9 / df_weak[df_weak[\"type\"] == \"PCIE\"][\"n\"], label=\"Measurements d=168\", marker=\"x\")\n",
    "#ptrans.scatter(df_strong[\"n\"], df_strong[\"norm_flops\"] * 1.0e-9, label=\"Measurements d=64\", marker=\"x\")\n",
    "#ptrans.scatter(df_weak[\"n\"], df_weak[\"best_calc_flops\"] * 1.0e-9, label=\"weak\")\n",
    "#hpl.plot(np.linspace(0,5), [perf_last(48,n) * 1.0e-3 for n in np.linspace(0,5)], label=\"Model\")\n",
    "single_perf = df_strong[df_strong[\"N\"] == 2][\"norm_flops\"] * 1.0e-9\n",
    "#ptrans.plot(np.linspace(0,26), [single_perf * (n - 1)/2 for n in np.linspace(0,26)], label=\"Scaling Model\")\n",
    "#ptrans.annotate(\"(n - 1)/2 ⋅ %3.1f GFLOP/s\" % (single_perf), (4,30))\n",
    "ptrans.set_xlabel(\"Number FPGAs (n)\")\n",
    "ptrans.set_ylabel(\"GB/s\")\n",
    "#ptrans.set_xlim((0,26))\n",
    "#ptrans.set_ylim((0,60))\n",
    "ptrans.legend()\n",
    "fig.savefig(\"ptrans_scaling_norm.pdf\")"
   ]
  },
  {
   "cell_type": "code",
   "execution_count": null,
   "metadata": {},
   "outputs": [],
   "source": []
  }
 ],
 "metadata": {
  "interpreter": {
   "hash": "31f2aee4e71d21fbe5cf8b01ff0e069b9275f58929596ceb00d14d90e3e16cd6"
  },
  "kernelspec": {
   "display_name": "Python 3.7.4 64-bit ('.venv': venv)",
   "language": "python",
   "name": "python3"
  },
  "language_info": {
   "codemirror_mode": {
    "name": "ipython",
    "version": 3
   },
   "file_extension": ".py",
   "mimetype": "text/x-python",
   "name": "python",
   "nbconvert_exporter": "python",
   "pygments_lexer": "ipython3",
   "version": "3.8.9"
  },
  "metadata": {
   "interpreter": {
    "hash": "4e3163113eec36992159becb80c6db544d861abde29f0b6090e3d782eb374e1f"
   }
  }
 },
 "nbformat": 4,
 "nbformat_minor": 4
}
