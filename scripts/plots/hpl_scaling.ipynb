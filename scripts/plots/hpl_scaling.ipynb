{
 "cells": [
  {
   "cell_type": "code",
   "execution_count": null,
   "metadata": {},
   "outputs": [],
   "source": [
    "import os\n",
    "import re\n",
    "import pandas as pd\n",
    "import parse_raw_to_csv\n",
    "\n",
    "data_dir= \"../../experiments/hpl_scaling\"\n",
    "\n",
    "df = pd.DataFrame()\n",
    "\n",
    "for f in os.listdir(data_dir):\n",
    "    if len(re.findall(r\"m(\\d+).txt\", f)) > 0:\n",
    "        df_tmp = parse_raw_to_csv.parse_file_or_folder(os.path.join(data_dir,f), parse_raw_to_csv.parse_map.values())\n",
    "        df_tmp[\"m\"] = int(re.findall(r\"m(\\d+).txt\", f)[0])\n",
    "        df_tmp[\"type\"] = \"IEC\"\n",
    "        df_tmp[\"norm_flops\"] = float(df_tmp[\"lu_gflops\"])/(244*5)*100\n",
    "        df = df.append(df_tmp)\n",
    "\n",
    "for f in os.listdir(data_dir):\n",
    "    if len(re.findall(r\"m(\\d+)_pcie.txt\", f)) > 0:\n",
    "        df_tmp = parse_raw_to_csv.parse_file_or_folder(os.path.join(data_dir,f), parse_raw_to_csv.parse_map.values())\n",
    "        df_tmp[\"m\"] = int(re.findall(r\"m(\\d+)_pcie.txt\", f)[0])\n",
    "        df_tmp[\"type\"] = \"PCIE\"\n",
    "        df_tmp[\"norm_flops\"] = float(df_tmp[\"lu_gflops\"])/(233.4*5)*100\n",
    "        df = df.append(df_tmp)\n",
    "\n",
    "for f in os.listdir(data_dir):\n",
    "    if len(re.findall(r\"m(\\d+)_pcie_b8.txt\", f)) > 0:\n",
    "        df_tmp = parse_raw_to_csv.parse_file_or_folder(os.path.join(data_dir,f), parse_raw_to_csv.parse_map.values())\n",
    "        if df_tmp.empty:\n",
    "            continue\n",
    "        df_tmp[\"m\"] = int(re.findall(r\"m(\\d+)_pcie_b8.txt\", f)[0])\n",
    "        df_tmp[\"type\"] = \"PCIE\"\n",
    "        df_tmp[\"norm_flops\"] = float(df_tmp[\"lu_gflops\"])/(280*2)*100\n",
    "        df = df.append(df_tmp)\n",
    "\n",
    "data_dir= \"../../experiments/hpl_scaling/u280\"\n",
    "\n",
    "for f in os.listdir(data_dir):\n",
    "    if len(re.findall(r\"m(\\d+)_pcie.txt\", f)) > 0:\n",
    "        df_tmp = parse_raw_to_csv.parse_file_or_folder(os.path.join(data_dir,f), parse_raw_to_csv.parse_map.values())\n",
    "        df_tmp[\"m\"] = int(re.findall(r\"m(\\d+)_pcie.txt\", f)[0])\n",
    "        df_tmp[\"type\"] = \"PCIE\"\n",
    "        df_tmp[\"norm_flops\"] = float(df_tmp[\"lu_gflops\"])/(253*2)*100\n",
    "        df = df.append(df_tmp)\n",
    "\n",
    "df[\"benchmark\"] = df.index\n",
    "df = df.apply(pd.to_numeric, errors='ignore')\n",
    "df = df.reset_index()\n",
    "\n",
    "df.to_csv(\"hpl_scaling.csv\")\n",
    "df"
   ]
  },
  {
   "cell_type": "code",
   "execution_count": null,
   "metadata": {},
   "outputs": [],
   "source": [
    "b=512\n",
    "g=8\n",
    "f=270e6\n",
    "f_c = 157e6\n",
    "t_mm =  (((b ** 2)/(g*f)*3.5 + (b/g) ** 3 / f))\n",
    "#       load and store block   forward rows and cols    update matrix\n",
    "t_lu =  (b ** 2)/(g*f)*4 + sum(300/f + (b/g)/f_c + (b * (b - g * int(i/g)))/(g ** 2) / f for i in range(b))\n",
    "\n",
    "def perf_last(m, torus_width=1, time=False, r=5):\n",
    "    #LU time at the very beginning of the calculation and at the very end\n",
    "    lu_total = t_lu + max(m - 2, 0) * t_lu\n",
    "    def lu_runtime(i):\n",
    "        return t_lu + max(math.ceil(i/torus_width) - 2,0) * t_lu  #+ max(math.ceil(i/torus_width) - 2,0) * (torus_width * 150*b + 700*b)/f\n",
    "    def mm_runtime(i):\n",
    "        remaining_blocks = i/torus_width\n",
    "        return ((remaining_blocks ** 2) / r) * t_mm\n",
    "    main_calc_time = sum(max(((2 * (i /torus_width) - 1) / r) * t_mm + lu_runtime(i), mm_runtime(i))  for i in range(1,m * torus_width))\n",
    "    exe_time = lu_total + main_calc_time\n",
    "    gflops = (2*((m*torus_width*512) ** 3)/3)/ exe_time * 1.0e-9\n",
    "    if time:\n",
    "        return exe_time\n",
    "    else:\n",
    "        return gflops"
   ]
  },
  {
   "cell_type": "code",
   "execution_count": null,
   "metadata": {},
   "outputs": [],
   "source": [
    "import matplotlib.pyplot as plt\n",
    "import seaborn as sns\n",
    "\n",
    "#Just use set_theme() function of seaborn library for a nice looking appearance.\n",
    "sns.set_theme()\n",
    "\n",
    "plot_dfs = {}\n",
    "\n",
    "plot_dfs[\"BittWare 520N IEC (block=512)\"] = df[(df[\"size\"] <= 80*256) & (df[\"device\"].str.contains(\"p520_max\"))]\n",
    "plot_dfs[\"BittWare 520N PCIe (block=256)\"] = df[(df[\"size\"] <= 80*256) & (df[\"device\"].str.contains(\"p520_hpc\")) & (df[\"size\"]/df[\"m\"] == 256)]\n",
    "plot_dfs[\"BittWare 520N PCIe (block=512)\"] = df[(df[\"size\"] <= 80*256) & (df[\"device\"].str.contains(\"p520_hpc\")) & (df[\"size\"]/df[\"m\"] == 512)]\n",
    "plot_dfs[\"Xilinx U280 PCIe (block=256)\"] = df[(df[\"size\"] <= 80*256) & (df[\"device\"].str.contains(\"xilinx\"))]\n",
    "\n",
    "fig, hpl = plt.subplots(1)\n",
    "for k in plot_dfs:\n",
    "    hpl.scatter(plot_dfs[k][\"size\"], plot_dfs[k][\"norm_flops\"], label=k, marker=\"x\")\n",
    "#hpl.plot(list(range(66)), [perf_last(m) for m in range(66)], label=\"Model\")\n",
    "#hpl.plot(np.linspace(0,66), [(2* 512 ** 3)/(((b ** 2)/(g*f)*2 + (b/g) ** 3 / f)) * 1.0e-9 * 5 for m in np.linspace(0,66)], label=\"Model\", linestyle=\"--\")\n",
    "#hpl.plot(np.linspace(0,66), [(2* 512 ** 3)/(((b ** 2)/(g*f)*4 + (b/g) ** 3 / f))* 1.0e-9 * 5 for m in np.linspace(0,66)], label=\"Matrix Multiplication\", linestyle=\"--\")\n",
    "#hpl.annotate(\"%.1f GFLOP/s\" % ((2* 512 ** 3)/(((b ** 2)/(g*f)*2 + (b/g) ** 3 / f)) * 1.0e-9 * 5), (1,(2* 512 ** 3)/(((b ** 2)/(g*f)*2 + (b/g) ** 3 / f)) * 1.0e-9 * 5 + 20))\n",
    "#hpl.annotate(\"%.1f GFLOP/s\" % ((2* 512 ** 3)/(((b ** 2)/(g*f)*4 + (b/g) ** 3 / f)) * 1.0e-9 * 5), (1,(2* 512 ** 3)/(((b ** 2)/(g*f)*4 + (b/g) ** 3 / f)) * 1.0e-9 * 5 + 20))\n",
    "hpl.set_xlabel(\"Matrix width\")\n",
    "hpl.set_ylabel(\"norm. GFLOP/s\")\n",
    "hpl.legend()\n",
    "fig.savefig(\"hpl_scaling_norm.pdf\")"
   ]
  },
  {
   "cell_type": "code",
   "execution_count": null,
   "metadata": {},
   "outputs": [],
   "source": []
  },
  {
   "cell_type": "code",
   "execution_count": null,
   "metadata": {},
   "outputs": [],
   "source": [
    "50000/f"
   ]
  },
  {
   "cell_type": "code",
   "execution_count": null,
   "metadata": {},
   "outputs": [],
   "source": [
    "import matplotlib.pyplot as plt\n",
    "import pandas as pd\n",
    "import parse_raw_to_csv_novalidate\n",
    "import os\n",
    "import numpy as np\n",
    "\n",
    "df = pd.DataFrame()\n",
    "\n",
    "for i in range(40,56):\n",
    "    df_tmp = parse_raw_to_csv_novalidate.parse_file_or_folder(\"../experiments/hpl_scaling/m%d_sq_large.txt\" % i, parse_raw_to_csv_novalidate.parse_map.values())\n",
    "    df_tmp[\"m\"] = i\n",
    "    df = df.append(df_tmp)\n",
    "\n",
    "df[\"benchmark\"] = df.index\n",
    "df = df.apply(pd.to_numeric, errors='ignore')\n",
    "df = df.reset_index()\n",
    "df"
   ]
  },
  {
   "cell_type": "code",
   "execution_count": null,
   "metadata": {},
   "outputs": [],
   "source": [
    "fig, hpl = plt.subplots(1)\n",
    "hpl.plot(df[\"m\"], df[\"lu_gflops\"])"
   ]
  },
  {
   "cell_type": "code",
   "execution_count": null,
   "metadata": {},
   "outputs": [],
   "source": [
    "import matplotlib.pyplot as plt\n",
    "import pandas as pd\n",
    "import parse_raw_to_csv_novalidate\n",
    "import os\n",
    "import numpy as np\n",
    "\n",
    "df = pd.DataFrame()\n",
    "\n",
    "for i in [20 + t*5 for t in range(1,11)]:\n",
    "    df_tmp = parse_raw_to_csv_novalidate.parse_file_or_folder(\"../experiments/hpl_scaling/m%d_sq.txt\" % i, parse_raw_to_csv_novalidate.parse_map.values())\n",
    "    df_tmp[\"m\"] = i\n",
    "    df = df.append(df_tmp)\n",
    "\n",
    "df[\"benchmark\"] = df.index\n",
    "df = df.apply(pd.to_numeric, errors='ignore')\n",
    "df = df.reset_index()\n",
    "df"
   ]
  },
  {
   "cell_type": "code",
   "execution_count": null,
   "metadata": {},
   "outputs": [],
   "source": [
    "fig, hpl = plt.subplots(1)\n",
    "hpl.plot(df[\"m\"], df[\"lu_gflops\"])\n",
    "hpl.plot(range(71), [perf(m) for m in range(71)])\n",
    "hpl.set_ylim(0,1200)"
   ]
  },
  {
   "cell_type": "code",
   "execution_count": null,
   "metadata": {},
   "outputs": [],
   "source": []
  }
 ],
 "metadata": {
  "interpreter": {
   "hash": "4e3163113eec36992159becb80c6db544d861abde29f0b6090e3d782eb374e1f"
  },
  "kernelspec": {
   "display_name": "Python 3.7.4 64-bit",
   "language": "python",
   "name": "python3"
  },
  "language_info": {
   "codemirror_mode": {
    "name": "ipython",
    "version": 3
   },
   "file_extension": ".py",
   "mimetype": "text/x-python",
   "name": "python",
   "nbconvert_exporter": "python",
   "pygments_lexer": "ipython3",
   "version": "3.6.8"
  },
  "metadata": {
   "interpreter": {
    "hash": "4e3163113eec36992159becb80c6db544d861abde29f0b6090e3d782eb374e1f"
   }
  },
  "orig_nbformat": 2
 },
 "nbformat": 4,
 "nbformat_minor": 2
}
