{
 "cells": [
  {
   "cell_type": "code",
   "execution_count": null,
   "metadata": {},
   "outputs": [],
   "source": [
    "import matplotlib.pyplot as plt\n",
    "import pandas as pd\n",
    "import parse_raw_to_csv\n",
    "import os\n",
    "import numpy as np\n",
    "\n",
    "df = pd.DataFrame()\n",
    "\n",
    "N = [1,2,5,8,13]\n",
    "n = [1,4,9,16,25]\n",
    "\n",
    "for ii, i in enumerate(N):\n",
    "    df_tmp = pd.DataFrame()\n",
    "    for f in os.listdir(\"../experiments/%d_fpga\" % i):\n",
    "        if any(f.endswith(e) for e in [\".txt\",\".out\"]) and any(f.startswith(s) for s in [\"hpl\"]):\n",
    "            df_tmp = df_tmp.append(parse_raw_to_csv.parse_file_or_folder(os.path.join(\"../experiments/%d_fpga\" % i, f), parse_raw_to_csv.parse_map.values()))\n",
    "    df_tmp[\"N\"] = i\n",
    "    df_tmp[\"n\"] = n[ii]\n",
    "    df = df.append(df_tmp)\n",
    "\n",
    "\n",
    "df[\"benchmark\"] = df.index\n",
    "df = df.apply(pd.to_numeric, errors='ignore')\n",
    "df = df.reset_index()\n",
    "\n",
    "\n",
    "df"
   ]
  },
  {
   "cell_type": "code",
   "execution_count": null,
   "metadata": {},
   "outputs": [],
   "source": [
    "df"
   ]
  },
  {
   "cell_type": "code",
   "execution_count": null,
   "metadata": {},
   "outputs": [],
   "source": [
    "\n",
    "df_strongt = df\n",
    "df_strongt[\"total_size\"] = df_strongt[\"size\"]*np.sqrt(df_strongt[\"n\"])\n",
    "df_strong = df_strongt[df_strongt[\"total_size\"].isin([48 * 512, 25600])]\n",
    "df_weak = df_strongt[df_strongt[\"total_size\"] == 48 *np.sqrt(df_strongt[\"n\"]) * 512]\n",
    "df_strong"
   ]
  },
  {
   "cell_type": "code",
   "execution_count": null,
   "metadata": {},
   "outputs": [],
   "source": [
    "import re\n",
    "df_cpu_strong = pd.DataFrame()\n",
    "\n",
    "regex = \"WC00C2R2\\\\s+(?P<size>\\\\d+)\\\\s+\\\\d+\\\\s+\\\\d+\\\\s+\\\\d+\\\\s+(?P<lu_best_time>\\\\d+\\.\\\\d+)\\\\s+(?P<lu_gflops>(\\d|\\.|\\+|-|e)+)\"\n",
    "\n",
    "for ii, i in enumerate(N):\n",
    "    df_tmp = pd.DataFrame()\n",
    "    with open(\"../experiments/cpu_hpl/strong_scaling/%d_cpu/xhpl_intel64_static_outputs.txt\" % i) as f:\n",
    "            content = f.read()\n",
    "            res = re.search(regex, content)\n",
    "            if res is not None:\n",
    "                df_tmp = df_tmp.append(res.groupdict(), ignore_index=True)\n",
    "    df_tmp[\"N\"] = i\n",
    "    df_tmp[\"n\"] = n[ii]\n",
    "    df_cpu_strong = df_cpu_strong.append(df_tmp)\n",
    "\n",
    "\n",
    "df_cpu_strong[\"benchmark\"] = \"MP LINPACK\"\n",
    "df_cpu_strong = df_cpu_strong.apply(pd.to_numeric, errors='ignore')\n",
    "df_cpu_strong = df_cpu_strong.reset_index()\n",
    "\n",
    "df_cpu_weak = pd.DataFrame()\n",
    "\n",
    "for ii, i in enumerate(N):\n",
    "    df_tmp = pd.DataFrame()\n",
    "    with open(\"../experiments/cpu_hpl/weak_scaling/%d_cpu/xhpl_intel64_static_outputs.txt\" % i) as f:\n",
    "            content = f.read()\n",
    "            res = re.search(regex, content)\n",
    "            if res is not None:\n",
    "                df_tmp = df_tmp.append(res.groupdict(), ignore_index=True)\n",
    "    df_tmp[\"N\"] = i\n",
    "    df_tmp[\"n\"] = n[ii]\n",
    "    df_cpu_weak = df_cpu_weak.append(df_tmp)\n",
    "\n",
    "\n",
    "df_cpu_weak[\"benchmark\"] = \"MP LINPACK\"\n",
    "df_cpu_weak= df_cpu_weak.apply(pd.to_numeric, errors='ignore')\n",
    "df_cpu_weak = df_cpu_weak.reset_index()\n",
    "\n",
    "df_cpu_weak"
   ]
  },
  {
   "cell_type": "code",
   "execution_count": null,
   "metadata": {},
   "outputs": [],
   "source": [
    "import math\n",
    "b=512\n",
    "g=8\n",
    "f=270e6\n",
    "f_c = 157e6\n",
    "t_mm = ((b ** 2)/(g*f)*2 + (b/g) ** 3 / f)\n",
    "#       load and store block   forward rows and cols    update matrix\n",
    "t_lu = (b ** 2)/(g*f)*2 + sum((b/g)/f_c + (b * (b - g * int(i/g)))/(g ** 2) / f for i in range(b))\n",
    "\n",
    "def perf_last(m, torus_width=1, time=False, r=5):\n",
    "    #LU time at the very beginning of the calculation and at the very end\n",
    "    lu_total = max(m - 1, 1) * t_lu\n",
    "    def lu_runtime(i):\n",
    "        return max(math.ceil(i/torus_width) - 1,1) * t_lu #+ max(math.ceil(i/torus_width) - 2,0) * (700*b)/f\n",
    "    def mm_runtime(i):\n",
    "        remaining_blocks = math.ceil(i/torus_width)\n",
    "        return math.ceil((remaining_blocks ** 2) / r) * t_mm\n",
    "    main_calc_time = sum(max(math.ceil(math.ceil(max(i + i - 1, 0) / torus_width) / r) * t_mm + lu_runtime(i), mm_runtime(i))  for i in range(1,m * torus_width))\n",
    "    exe_time = lu_total + main_calc_time\n",
    "    gflops = (2*((m*torus_width*512) ** 3)/3)/ exe_time * 1.0e-9\n",
    "    if time:\n",
    "        return exe_time\n",
    "    else:\n",
    "        return gflops"
   ]
  },
  {
   "cell_type": "code",
   "execution_count": null,
   "metadata": {},
   "outputs": [],
   "source": [
    "import seaborn as sns\n",
    "\n",
    "#Just use set_theme() function of seaborn library for a nice looking appearance.\n",
    "sns.set_theme()\n",
    "\n",
    "fig, hpl = plt.subplots(1)\n",
    "hpl.scatter(np.sqrt(df_weak[\"n\"]), df_weak[\"lu_gflops\"] * 1.0e-3, label=\"FPGA N=24,576 ⋅ t\", color=\"C0\",marker=\"x\")\n",
    "hpl.scatter(np.sqrt(df_strong[\"n\"]), df_strong[\"lu_gflops\"] * 1.0e-3, label=\"FPGA N=24,576\", marker=\"o\", color=\"C0\" )\n",
    "hpl.scatter(np.sqrt(df_cpu_weak[\"n\"]), df_cpu_weak[\"lu_gflops\"] * 1.0e-3, label=\"CPU  N=24,576 ⋅ t\", marker=\"x\", color=\"C1\" )\n",
    "hpl.scatter(np.sqrt(df_cpu_strong[\"n\"]), df_cpu_strong[\"lu_gflops\"] * 1.0e-3, label=\"CPU  N=24,576\", marker=\"o\", color=\"C1\" )\n",
    "single_perf = df_strong[df_strong[\"N\"] == 1][\"lu_gflops\"] * 1.0e-3\n",
    "single_perf_cpu = df_cpu_strong[df_cpu_strong[\"N\"] == 1][\"lu_gflops\"] * 1.0e-3\n",
    "hpl.step(list(range(1,7)), [0,single_perf, 7.06101e-01 * 4, 4.83296e-01 * 9, 3.68730e-01*16, 3.12129e-01*25])\n",
    "hpl.plot(np.linspace(1,6), [single_perf * n * n for n in np.linspace(1,6)], label=\"Extrapolation FPGA\", color=\"C0\" )\n",
    "hpl.plot(np.linspace(1,6), [single_perf_cpu * n * n for n in np.linspace(1,6)], label=\"Extrapolation CPU\", color=\"C1\" )\n",
    "hpl.annotate(\"FPGA = t² ⋅ %3.1f GFLOP/s\" % (single_perf * 1.0e3), (0.05,9))\n",
    "hpl.annotate(\"CPU = t² ⋅ %3.1f GFLOP/s\" % (single_perf_cpu * 1.0e3), (0.35,11))\n",
    "hpl.annotate(\"t² ⋅ p_t\", (3.8,7))\n",
    "hpl.set_xlabel(\"Torus Width (t)\")\n",
    "hpl.set_ylabel(\"TFLOP/s\")\n",
    "hpl.set_xlim((0,6))\n",
    "hpl.set_ylim((0,25))\n",
    "hpl.legend()\n",
    "fig.savefig(\"hpl_torus.pdf\")"
   ]
  },
  {
   "cell_type": "code",
   "execution_count": null,
   "metadata": {},
   "outputs": [],
   "source": [
    "fig, hpl = plt.subplots(1)\n",
    "hpl.scatter(np.sqrt(df_strong[\"n\"]), df_strong[\"lu_gflops\"] * 1.0e-3, label=\"FPGA (SP) m=48\", marker=\"x\")\n",
    "#hpl.scatter(np.sqrt(df_weak[\"n\"]), df_weak[\"lu_gflops\"] * 1.0e-3, label=\"FPGA (SP) m=48 ⋅ t\", marker=\"x\")\n",
    "hpl.scatter(np.sqrt(df_cpu_strong[\"n\"]), df_cpu_strong[\"lu_gflops\"] * 1.0e-3, label=\"CPU (DP)  m=48\", marker=\"x\")\n",
    "#hpl.scatter(np.sqrt(df_cpu_weak[\"n\"]), df_cpu_weak[\"lu_gflops\"] * 1.0e-3, label=\"CPU (DP)  m=48 ⋅ t\", marker=\"x\")\n",
    "#hpl.scatter([3,4],[7.74884,13.5912], color=\"red\", marker=\"x\", label=\"Not validated\")\n",
    "#hpl.plot(np.linspace(0,5), [perf_last(48,n) * 1.0e-3 for n in np.linspace(0,5)], label=\"Model\")\n",
    "single_perf = df_strong[df_strong[\"N\"] == 1][\"lu_gflops\"] * 1.0e-3\n",
    "single_perf_cpu = df_cpu_strong[df_cpu_strong[\"N\"] == 1][\"lu_gflops\"] * 1.0e-3\n",
    "#hpl.step(list(range(1,7)), [0,single_perf, 7.06101e-01 * 4, 4.83296e-01 * 9, 3.68730e-01*16, 3.12129e-01*25], label=\"Strong Scaling\")\n",
    "hpl.plot(np.linspace(1,6), [single_perf * n * n  for n in np.linspace(1,6)], label=\"Extrapolation FPGA\")\n",
    "hpl.plot(np.linspace(1,6), [single_perf_cpu * n * n for n in np.linspace(1,6)], label=\"Extrapolation CPU\")\n",
    "#hpl.annotate(\"t² ⋅ %3.1f GFLOP/s\" % (single_perf * 1.0e3), (2.2,17))\n",
    "#hpl.annotate(\"t² ⋅ p_t\", (3.8,7))\n",
    "hpl.set_xlabel(\"Torus Width (t)\")\n",
    "hpl.set_ylabel(\"TFLOP/s\")\n",
    "hpl.set_xlim((0,6))\n",
    "hpl.set_ylim((0,20))\n",
    "hpl.legend()\n",
    "fig.savefig(\"hpl_torus_strong.pdf\")"
   ]
  },
  {
   "cell_type": "code",
   "execution_count": null,
   "metadata": {},
   "outputs": [],
   "source": []
  }
 ],
 "metadata": {
  "kernelspec": {
   "name": "python374jvsc74a57bd04e3163113eec36992159becb80c6db544d861abde29f0b6090e3d782eb374e1f",
   "display_name": "Python 3.7.4 64-bit ('.venv': venv)"
  },
  "language_info": {
   "codemirror_mode": {
    "name": "ipython",
    "version": 3
   },
   "file_extension": ".py",
   "mimetype": "text/x-python",
   "name": "python",
   "nbconvert_exporter": "python",
   "pygments_lexer": "ipython3",
   "version": "3.7.4"
  },
  "metadata": {
   "interpreter": {
    "hash": "4e3163113eec36992159becb80c6db544d861abde29f0b6090e3d782eb374e1f"
   }
  }
 },
 "nbformat": 4,
 "nbformat_minor": 4
}